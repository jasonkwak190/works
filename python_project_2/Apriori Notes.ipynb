{
 "cells": [
  {
   "cell_type": "code",
   "execution_count": 1,
   "id": "backed-health",
   "metadata": {},
   "outputs": [],
   "source": [
    "import pandas as pd\n",
    "import warnings\n",
    "warnings.filterwarnings('ignore')"
   ]
  },
  {
   "cell_type": "markdown",
   "id": "secondary-disclaimer",
   "metadata": {},
   "source": [
    "### Detecting “Pump & Dump Schemes” on Cryptocurrency Market Using An Improved Apriori Algorithm"
   ]
  },
  {
   "cell_type": "markdown",
   "id": "processed-marks",
   "metadata": {},
   "source": [
    "https://ieeexplore.ieee.org/stamp/stamp.jsp?tp=&arnumber=8705858 Main paper for this notebook"
   ]
  },
  {
   "cell_type": "markdown",
   "id": "stuffed-memphis",
   "metadata": {},
   "source": [
    "Data from https://www.kaggle.com/xblock/mtgox-leaked-transaction - Provided column types below\n"
   ]
  },
  {
   "cell_type": "markdown",
   "id": "super-technician",
   "metadata": {},
   "source": [
    " ### Columns: \n",
    "\t\t1.    Source : The user who sell bitcoins\n",
    "\t\t2.    Target : The user who buy bitcoins\n",
    "\t\t3.  Trade_Id : The ID of present trasaction\n",
    "\t\t4.  Bitcoins : Number of bitcoins involved in the current transaction\n",
    "\t\t5.     Money : Dollars spent buying bitcoin\n",
    "\t\t6. Money_rate : Price per bitcoin\n",
    "\t\t7.      Date : Date of transaction\n",
    "\t\t8.     label : There are three types of users: 0 for normal price transactions, 1 for abnormally high price transactions, and 2 for abnormally low price transactions. "
   ]
  },
  {
   "cell_type": "code",
   "execution_count": 45,
   "id": "swedish-birthday",
   "metadata": {},
   "outputs": [],
   "source": [
    "#define data types - converting IDs to str, otherwise they cause issues with pd.Series.value_counts()\n",
    "dtypes = {\"Source\":str,\n",
    "          \"Target\":str,\n",
    "          \"Trade_id\":str,\n",
    "          \"Bitcoins\":float,\n",
    "          \"Money\":float,\n",
    "          \"Money_Rate\":float,\n",
    "          \"Date\":object,\n",
    "          \"label\":int}\n",
    "df = pd.read_csv(\"./data/complete_edge_v2.csv\", dtype=dtypes, parse_dates=[6])"
   ]
  },
  {
   "cell_type": "code",
   "execution_count": 46,
   "id": "competent-kennedy",
   "metadata": {},
   "outputs": [
    {
     "data": {
      "text/html": [
       "<div>\n",
       "<style scoped>\n",
       "    .dataframe tbody tr th:only-of-type {\n",
       "        vertical-align: middle;\n",
       "    }\n",
       "\n",
       "    .dataframe tbody tr th {\n",
       "        vertical-align: top;\n",
       "    }\n",
       "\n",
       "    .dataframe thead th {\n",
       "        text-align: right;\n",
       "    }\n",
       "</style>\n",
       "<table border=\"1\" class=\"dataframe\">\n",
       "  <thead>\n",
       "    <tr style=\"text-align: right;\">\n",
       "      <th></th>\n",
       "      <th>Source</th>\n",
       "      <th>Target</th>\n",
       "      <th>Trade_Id</th>\n",
       "      <th>Bitcoins</th>\n",
       "      <th>Money</th>\n",
       "      <th>Money_Rate</th>\n",
       "      <th>Date</th>\n",
       "      <th>label</th>\n",
       "    </tr>\n",
       "  </thead>\n",
       "  <tbody>\n",
       "    <tr>\n",
       "      <th>0</th>\n",
       "      <td>895</td>\n",
       "      <td>3931</td>\n",
       "      <td>35372</td>\n",
       "      <td>23.020</td>\n",
       "      <td>18.061</td>\n",
       "      <td>0.784579</td>\n",
       "      <td>2011-04-01 00:28:54</td>\n",
       "      <td>0</td>\n",
       "    </tr>\n",
       "    <tr>\n",
       "      <th>1</th>\n",
       "      <td>895</td>\n",
       "      <td>722</td>\n",
       "      <td>35373</td>\n",
       "      <td>10.000</td>\n",
       "      <td>7.800</td>\n",
       "      <td>0.780000</td>\n",
       "      <td>2011-04-01 00:28:54</td>\n",
       "      <td>0</td>\n",
       "    </tr>\n",
       "    <tr>\n",
       "      <th>2</th>\n",
       "      <td>895</td>\n",
       "      <td>3605</td>\n",
       "      <td>35374</td>\n",
       "      <td>35.000</td>\n",
       "      <td>27.300</td>\n",
       "      <td>0.780000</td>\n",
       "      <td>2011-04-01 00:28:54</td>\n",
       "      <td>0</td>\n",
       "    </tr>\n",
       "    <tr>\n",
       "      <th>3</th>\n",
       "      <td>895</td>\n",
       "      <td>3966</td>\n",
       "      <td>35375</td>\n",
       "      <td>10.600</td>\n",
       "      <td>8.246</td>\n",
       "      <td>0.777925</td>\n",
       "      <td>2011-04-01 00:28:54</td>\n",
       "      <td>0</td>\n",
       "    </tr>\n",
       "    <tr>\n",
       "      <th>4</th>\n",
       "      <td>895</td>\n",
       "      <td>3353</td>\n",
       "      <td>35376</td>\n",
       "      <td>176.214</td>\n",
       "      <td>136.920</td>\n",
       "      <td>0.777010</td>\n",
       "      <td>2011-04-01 00:28:54</td>\n",
       "      <td>0</td>\n",
       "    </tr>\n",
       "  </tbody>\n",
       "</table>\n",
       "</div>"
      ],
      "text/plain": [
       "  Source Target  Trade_Id  Bitcoins    Money  Money_Rate                Date  \\\n",
       "0    895   3931     35372    23.020   18.061    0.784579 2011-04-01 00:28:54   \n",
       "1    895    722     35373    10.000    7.800    0.780000 2011-04-01 00:28:54   \n",
       "2    895   3605     35374    35.000   27.300    0.780000 2011-04-01 00:28:54   \n",
       "3    895   3966     35375    10.600    8.246    0.777925 2011-04-01 00:28:54   \n",
       "4    895   3353     35376   176.214  136.920    0.777010 2011-04-01 00:28:54   \n",
       "\n",
       "   label  \n",
       "0      0  \n",
       "1      0  \n",
       "2      0  \n",
       "3      0  \n",
       "4      0  "
      ]
     },
     "execution_count": 46,
     "metadata": {},
     "output_type": "execute_result"
    }
   ],
   "source": [
    "df.head()"
   ]
  },
  {
   "cell_type": "code",
   "execution_count": 47,
   "id": "occasional-strength",
   "metadata": {},
   "outputs": [
    {
     "data": {
      "text/plain": [
       "Source                object\n",
       "Target                object\n",
       "Trade_Id               int64\n",
       "Bitcoins             float64\n",
       "Money                float64\n",
       "Money_Rate           float64\n",
       "Date          datetime64[ns]\n",
       "label                  int64\n",
       "dtype: object"
      ]
     },
     "execution_count": 47,
     "metadata": {},
     "output_type": "execute_result"
    }
   ],
   "source": [
    "df.dtypes"
   ]
  },
  {
   "cell_type": "markdown",
   "id": "temporal-drilling",
   "metadata": {},
   "source": [
    "Some data cleaning is done in the paper, but has already been done for us by Kaggle. The paper also treats multiple adjacent transaction records with the same buyer or seller as a single buy or sell (?). The paper also removes the records of all users who have 10 times more than the average number of transactions, as well \"Markus\" and \"Willy\", two known price manipulating bots. The Markus bot operated under a single userID, while the Willy bot used 49 different userIDs. I couldn't find what userIDs those were, so we can remove them later, if they aren't removed by the 10*mean threshold "
   ]
  },
  {
   "cell_type": "code",
   "execution_count": 53,
   "id": "distinct-median",
   "metadata": {
    "scrolled": true
   },
   "outputs": [],
   "source": [
    "#Take the union of source and target, and count unique values\n",
    "#Need to convert to strings because this data is werid\n",
    "#\n",
    "txn_counts = pd.concat([df[\"Source\"], df[\"Target\"]],ignore_index=True).value_counts()"
   ]
  },
  {
   "cell_type": "code",
   "execution_count": 55,
   "id": "manufactured-election",
   "metadata": {},
   "outputs": [
    {
     "data": {
      "text/plain": [
       "113.54024953285906"
      ]
     },
     "metadata": {},
     "output_type": "display_data"
    },
    {
     "data": {
      "text/plain": [
       "1135.4024953285907"
      ]
     },
     "metadata": {},
     "output_type": "display_data"
    }
   ],
   "source": [
    "txn_mean = txn_counts.mean() \n",
    "display(txn_mean) #Average number of transactions\n",
    "txn_thresh = txn_mean*10 \n",
    "display(txn_thresh) #Remove users with more transactions than the threshold"
   ]
  },
  {
   "cell_type": "code",
   "execution_count": 64,
   "id": "pleasant-michael",
   "metadata": {},
   "outputs": [
    {
     "data": {
      "text/plain": [
       "231        True\n",
       "THK        True\n",
       "89169      True\n",
       "1          True\n",
       "115248     True\n",
       "          ...  \n",
       "380373    False\n",
       "361920    False\n",
       "253799    False\n",
       "64163     False\n",
       "357546    False\n",
       "Length: 119343, dtype: bool"
      ]
     },
     "execution_count": 64,
     "metadata": {},
     "output_type": "execute_result"
    }
   ],
   "source": [
    "(txn_counts>txn_thresh) #give me only the indexes that are true, then delete transactions in the main dataframe that contain these user_ids for source or target"
   ]
  },
  {
   "cell_type": "code",
   "execution_count": null,
   "id": "young-highlight",
   "metadata": {},
   "outputs": [],
   "source": [
    "#\"improved apriori algo\"\n",
    "def apriori(t_matrix, mincnt, span):\n",
    "    '''\n",
    "    Inputs: \n",
    "    t_matrix - matrix which records the buy (or sell) transactions, where x is userid, and y is a time series, and x,y=1 if the user has bought at the timestamp\n",
    "    mincnt - support threshold\n",
    "    span - timespan - actions are considered simultanious if they occur within [t-span+1,t+span]\n",
    "    \n",
    "    Outputs:\n",
    "    F: buying groups\n",
    "    supports: supports for the buying groups...\n",
    "    '''\n",
    "    ###Part 1\n",
    "    #create all k groups (F_k) and their supports (s_k)\n",
    "    #All users\n",
    "    C=rownames(t_matrix)\n",
    "    #All users whose support exceeds the threshold\n",
    "    F=[]\n",
    "    #supports for users who exceed the threshold\n",
    "    supports=[]\n",
    "    for k in range(len(F)):\n",
    "        #calculate support\n",
    "        C[k]=#apriori-gen(F[k-1])\n",
    "        F[k]=C[k]>minct#and add users who are above the support threshold (fix this line!)\n",
    "        supports[k]=F[k].support #fix this line\n",
    "    ###part 2\n",
    "    def count(c):\n",
    "        '''\n",
    "        Calculates support for a given n-group with n >= 2\n",
    "        c is a list of users, and ts are buy timestamps for that user\n",
    "        '''\n",
    "        #for each timestamp in each set of timestamps,\n",
    "            #calculate the beginning of the interval: ti-span+1\n",
    "            #calculate the end of the interval: ti+span\n",
    "            if i == 1:\n",
    "                if: #if during the interval, all users in this group bought, mark this as a group buying action\n",
    "            else:\n",
    "                if ti_begin < t(i-1)end #yadda... increment and continue\n",
    "            return common_times\n",
    "    return (F, supports)\n",
    "    "
   ]
  },
  {
   "cell_type": "markdown",
   "id": "hidden-chapter",
   "metadata": {},
   "source": [
    "This algorithm returns groups of users and the support for them having simultaneous buy transactions. In the \"real world\" where user and transaction IDs are not available (until they are leaked I guess), we can only look at price and time. In order to compare to the moving average technique from our paper, we need to modify this algorithm to return the timestamps where high amounts of users are purchasing/selling simultaneously, and get HLOC information about the coin during the timespan of the data leak."
   ]
  }
 ],
 "metadata": {
  "kernelspec": {
   "display_name": "Python 3",
   "language": "python",
   "name": "python3"
  },
  "language_info": {
   "codemirror_mode": {
    "name": "ipython",
    "version": 3
   },
   "file_extension": ".py",
   "mimetype": "text/x-python",
   "name": "python",
   "nbconvert_exporter": "python",
   "pygments_lexer": "ipython3",
   "version": "3.8.5"
  }
 },
 "nbformat": 4,
 "nbformat_minor": 5
}
